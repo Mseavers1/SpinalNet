{
 "cells": [
  {
   "cell_type": "markdown",
   "id": "0f9efd0e",
   "metadata": {
    "papermill": {
     "duration": 0.004521,
     "end_time": "2022-06-19T11:29:30.109197",
     "exception": false,
     "start_time": "2022-06-19T11:29:30.104676",
     "status": "completed"
    },
    "tags": []
   },
   "source": [
    "# Investigation and Final Design\n",
    "### We tried to develop a robust SpinalNet function supporting any number of hidden layers using a list of layers and using string to variable name functions. However, these approaches doesnot show parameters while printing the network. Therefore, we white variable names manually using 'if' statements.\n",
    "\n",
    "## Initial trial using local()\n",
    "### Does not work."
   ]
  },
  {
   "cell_type": "code",
   "execution_count": 1,
   "id": "a515f5ae",
   "metadata": {
    "execution": {
     "iopub.execute_input": "2022-06-19T11:29:30.121621Z",
     "iopub.status.busy": "2022-06-19T11:29:30.121046Z",
     "iopub.status.idle": "2022-06-19T11:29:31.949524Z",
     "shell.execute_reply": "2022-06-19T11:29:31.948461Z"
    },
    "papermill": {
     "duration": 1.836878,
     "end_time": "2022-06-19T11:29:31.952644",
     "exception": false,
     "start_time": "2022-06-19T11:29:30.115766",
     "status": "completed"
    },
    "tags": []
   },
   "outputs": [],
   "source": [
    "import torch\n",
    "import torch.nn as nn\n",
    "import numpy as np\n",
    "\n",
    "class MLP(nn.Module):\n",
    "    def __init__(self, h_sizes, out_size):\n",
    "        super(MLP, self).__init__()\n",
    "        # Hidden layers\n",
    "        #self.act = Activation_Function\n",
    "        \n",
    "        #self.hidden = []\n",
    "        for k in range(len(h_sizes)-1):\n",
    "            variable_name = 'self.fc'+str(k)\n",
    "            print(variable_name)\n",
    "            locals()[variable_name] = nn.Linear(h_sizes[k], h_sizes[k+1])\n",
    "            print(locals()[variable_name])\n",
    "            #self.hidden.append(nn.Linear(h_sizes[k], h_sizes[k+1]))\n",
    "        # Output layer\n",
    "        self.out = nn.Linear(h_sizes[-1], out_size)\n",
    "\n",
    "    def forward(self, x):\n",
    "        # Feedforward\n",
    "        for layer in (len(h_sizes)-1):\n",
    "            variable_name = 'self.fc'+str(k)\n",
    "            x = F.relu(locals()[variable_name](x))\n",
    "        output= F.softmax(self.out(x), dim=1)\n",
    "\n",
    "        return output"
   ]
  },
  {
   "cell_type": "code",
   "execution_count": 2,
   "id": "269dc945",
   "metadata": {
    "execution": {
     "iopub.execute_input": "2022-06-19T11:29:31.964748Z",
     "iopub.status.busy": "2022-06-19T11:29:31.963325Z",
     "iopub.status.idle": "2022-06-19T11:29:31.975783Z",
     "shell.execute_reply": "2022-06-19T11:29:31.974456Z"
    },
    "papermill": {
     "duration": 0.021742,
     "end_time": "2022-06-19T11:29:31.979183",
     "exception": false,
     "start_time": "2022-06-19T11:29:31.957441",
     "status": "completed"
    },
    "tags": []
   },
   "outputs": [
    {
     "name": "stdout",
     "output_type": "stream",
     "text": [
      "self.fc0\n",
      "Linear(in_features=5, out_features=5, bias=True)\n",
      "self.fc1\n",
      "Linear(in_features=5, out_features=5, bias=True)\n",
      "self.fc2\n",
      "Linear(in_features=5, out_features=5, bias=True)\n",
      "\n",
      "Printing model:\n",
      " MLP(\n",
      "  (out): Linear(in_features=5, out_features=1, bias=True)\n",
      ")\n"
     ]
    }
   ],
   "source": [
    "mplnet = MLP([5,5,5,5],1)\n",
    "print(\"\\nPrinting model:\\n\",mplnet)"
   ]
  },
  {
   "cell_type": "code",
   "execution_count": 3,
   "id": "68122245",
   "metadata": {
    "execution": {
     "iopub.execute_input": "2022-06-19T11:29:31.990521Z",
     "iopub.status.busy": "2022-06-19T11:29:31.990132Z",
     "iopub.status.idle": "2022-06-19T11:29:31.995404Z",
     "shell.execute_reply": "2022-06-19T11:29:31.994762Z"
    },
    "papermill": {
     "duration": 0.014404,
     "end_time": "2022-06-19T11:29:31.998583",
     "exception": false,
     "start_time": "2022-06-19T11:29:31.984179",
     "status": "completed"
    },
    "tags": []
   },
   "outputs": [
    {
     "name": "stdout",
     "output_type": "stream",
     "text": [
      "Parameter containing:\n",
      "tensor([[ 0.2006, -0.3399,  0.2070, -0.3745, -0.0127]], requires_grad=True)\n",
      "Parameter containing:\n",
      "tensor([-0.1958], requires_grad=True)\n"
     ]
    }
   ],
   "source": [
    "for parameter in mplnet.parameters():\n",
    "    print(parameter)"
   ]
  },
  {
   "cell_type": "markdown",
   "id": "9425696c",
   "metadata": {
    "papermill": {
     "duration": 0.005521,
     "end_time": "2022-06-19T11:29:32.012430",
     "exception": false,
     "start_time": "2022-06-19T11:29:32.006909",
     "status": "completed"
    },
    "tags": []
   },
   "source": [
    "# Trial with if: \n",
    "## It works\n",
    "### Supporting up to 30 layers"
   ]
  },
  {
   "cell_type": "code",
   "execution_count": 4,
   "id": "c8945741",
   "metadata": {
    "execution": {
     "iopub.execute_input": "2022-06-19T11:29:32.024049Z",
     "iopub.status.busy": "2022-06-19T11:29:32.023380Z",
     "iopub.status.idle": "2022-06-19T11:29:32.109052Z",
     "shell.execute_reply": "2022-06-19T11:29:32.107795Z"
    },
    "papermill": {
     "duration": 0.094822,
     "end_time": "2022-06-19T11:29:32.111871",
     "exception": false,
     "start_time": "2022-06-19T11:29:32.017049",
     "status": "completed"
    },
    "tags": []
   },
   "outputs": [],
   "source": [
    "import torch\n",
    "import torch.nn as nn\n",
    "import numpy as np\n",
    "\n",
    "class SpinalNet(nn.Module):\n",
    "    def __init__(self, Input_Size, Number_of_Split, HL_width, number_HL, Output_Size, Activation_Function):\n",
    "        \n",
    "        super(SpinalNet, self).__init__()\n",
    "        Splitted_Input_Size = int(np.round(Input_Size/Number_of_Split))\n",
    "        self.lru = Activation_Function\n",
    "        self.fc1 = nn.Linear(Splitted_Input_Size, HL_width)\n",
    "        if number_HL>1:\n",
    "            self.fc2 = nn.Linear(Splitted_Input_Size+HL_width, HL_width)\n",
    "        if number_HL>2:\n",
    "            self.fc3 = nn.Linear(Splitted_Input_Size+HL_width, HL_width)\n",
    "        if number_HL>3:\n",
    "            self.fc4 = nn.Linear(Splitted_Input_Size+HL_width, HL_width)\n",
    "        if number_HL>4:\n",
    "            self.fc5 = nn.Linear(Splitted_Input_Size+HL_width, HL_width)\n",
    "        if number_HL>5:\n",
    "            self.fc6 = nn.Linear(Splitted_Input_Size+HL_width, HL_width)\n",
    "        if number_HL>6:\n",
    "            self.fc7 = nn.Linear(Splitted_Input_Size+HL_width, HL_width)\n",
    "        if number_HL>7:\n",
    "            self.fc8 = nn.Linear(Splitted_Input_Size+HL_width, HL_width)\n",
    "        if number_HL>8:\n",
    "            self.fc9 = nn.Linear(Splitted_Input_Size+HL_width, HL_width)\n",
    "        if number_HL>9:\n",
    "            self.fc10 = nn.Linear(Splitted_Input_Size+HL_width, HL_width)\n",
    "        if number_HL>10:\n",
    "            self.fc11 = nn.Linear(Splitted_Input_Size+HL_width, HL_width)\n",
    "        if number_HL>11:\n",
    "            self.fc12 = nn.Linear(Splitted_Input_Size+HL_width, HL_width)\n",
    "        if number_HL>12:\n",
    "            self.fc13 = nn.Linear(Splitted_Input_Size+HL_width, HL_width)\n",
    "        if number_HL>13:\n",
    "            self.fc14 = nn.Linear(Splitted_Input_Size+HL_width, HL_width)\n",
    "        if number_HL>14:\n",
    "            self.fc15 = nn.Linear(Splitted_Input_Size+HL_width, HL_width)\n",
    "        if number_HL>15:\n",
    "            self.fc16 = nn.Linear(Splitted_Input_Size+HL_width, HL_width)\n",
    "        if number_HL>16:\n",
    "            self.fc17 = nn.Linear(Splitted_Input_Size+HL_width, HL_width)\n",
    "        if number_HL>17:\n",
    "            self.fc18 = nn.Linear(Splitted_Input_Size+HL_width, HL_width)\n",
    "        if number_HL>18:\n",
    "            self.fc19 = nn.Linear(Splitted_Input_Size+HL_width, HL_width)\n",
    "        if number_HL>19:\n",
    "            self.fc20 = nn.Linear(Splitted_Input_Size+HL_width, HL_width)\n",
    "        if number_HL>20:\n",
    "            self.fc21 = nn.Linear(Splitted_Input_Size+HL_width, HL_width)\n",
    "        if number_HL>21:\n",
    "            self.fc22 = nn.Linear(Splitted_Input_Size+HL_width, HL_width)\n",
    "        if number_HL>22:\n",
    "            self.fc23 = nn.Linear(Splitted_Input_Size+HL_width, HL_width)\n",
    "        if number_HL>23:\n",
    "            self.fc24 = nn.Linear(Splitted_Input_Size+HL_width, HL_width)\n",
    "        if number_HL>24:\n",
    "            self.fc25 = nn.Linear(Splitted_Input_Size+HL_width, HL_width)\n",
    "        if number_HL>25:\n",
    "            self.fc26 = nn.Linear(Splitted_Input_Size+HL_width, HL_width)\n",
    "        if number_HL>26:\n",
    "            self.fc27 = nn.Linear(Splitted_Input_Size+HL_width, HL_width)\n",
    "        if number_HL>27:\n",
    "            self.fc28 = nn.Linear(Splitted_Input_Size+HL_width, HL_width)\n",
    "        if number_HL>28:\n",
    "            self.fc29 = nn.Linear(Splitted_Input_Size+HL_width, HL_width)\n",
    "        if number_HL>29:\n",
    "            self.fc30 = nn.Linear(Splitted_Input_Size+HL_width, HL_width)\n",
    "        \n",
    "        self.fcx = nn.Linear(HL_width*number_HL, Output_Size)\n",
    "\n",
    "    def forward(self, x):\n",
    "        x_all =x        \n",
    "        \n",
    "        Splitted_Input_Size = self.fc1.in_features\n",
    "        HL_width = self.fc2.in_features - self.fc1.in_features\n",
    "        number_HL = int(np.round(self.fcx.in_features/HL_width))\n",
    "        length_x_all = number_HL*Splitted_Input_Size      \n",
    "        \n",
    "        while x_all.size(dim=1) < length_x_all:\n",
    "            x_all = torch.cat([x_all, x],dim=1)\n",
    "            \n",
    "        x = self.lru(self.fc1(x_all[:,0:Splitted_Input_Size]))\n",
    "        x_out = x\n",
    "        \n",
    "        counter1 = 1\n",
    "        if number_HL>counter1:\n",
    "            x_from_all = x_all[:,Splitted_Input_Size* counter1:Splitted_Input_Size*(counter1+1)]\n",
    "            x = self.lru(self.fc2(torch.cat([x_from_all, x], dim=1)))\n",
    "            x_out = torch.cat([x_out, x], dim=1)\n",
    "            \n",
    "        counter1 = counter1 + 1\n",
    "        if number_HL>counter1:\n",
    "            x_from_all = x_all[:,Splitted_Input_Size* counter1:Splitted_Input_Size*(counter1+1)]\n",
    "            x = self.lru(self.fc3(torch.cat([x_from_all, x], dim=1)))\n",
    "            x_out = torch.cat([x_out, x], dim=1)\n",
    "            \n",
    "        counter1 = counter1 + 1\n",
    "        if number_HL>counter1:\n",
    "            x_from_all = x_all[:,Splitted_Input_Size* counter1:Splitted_Input_Size*(counter1+1)]\n",
    "            x = self.lru(self.fc4(torch.cat([x_from_all, x], dim=1)))\n",
    "            x_out = torch.cat([x_out, x], dim=1)\n",
    "            \n",
    "        counter1 = counter1 + 1\n",
    "        if number_HL>counter1:\n",
    "            x_from_all = x_all[:,Splitted_Input_Size* counter1:Splitted_Input_Size*(counter1+1)]\n",
    "            x = self.lru(self.fc5(torch.cat([x_from_all, x], dim=1)))\n",
    "            x_out = torch.cat([x_out, x], dim=1)\n",
    "            \n",
    "        counter1 = counter1 + 1\n",
    "        if number_HL>counter1:\n",
    "            x_from_all = x_all[:,Splitted_Input_Size* counter1:Splitted_Input_Size*(counter1+1)]\n",
    "            x = self.lru(self.fc6(torch.cat([x_from_all, x], dim=1)))\n",
    "            x_out = torch.cat([x_out, x], dim=1)\n",
    "            \n",
    "        counter1 = counter1 + 1\n",
    "        if number_HL>counter1:\n",
    "            x_from_all = x_all[:,Splitted_Input_Size* counter1:Splitted_Input_Size*(counter1+1)]\n",
    "            x = self.lru(self.fc7(torch.cat([x_from_all, x], dim=1)))\n",
    "            x_out = torch.cat([x_out, x], dim=1)\n",
    "            \n",
    "        counter1 = counter1 + 1\n",
    "        if number_HL>counter1:\n",
    "            x_from_all = x_all[:,Splitted_Input_Size* counter1:Splitted_Input_Size*(counter1+1)]\n",
    "            x = self.lru(self.fc8(torch.cat([x_from_all, x], dim=1)))\n",
    "            x_out = torch.cat([x_out, x], dim=1)\n",
    "            \n",
    "        counter1 = counter1 + 1\n",
    "        if number_HL>counter1:\n",
    "            x_from_all = x_all[:,Splitted_Input_Size* counter1:Splitted_Input_Size*(counter1+1)]\n",
    "            x = self.lru(self.fc9(torch.cat([x_from_all, x], dim=1)))\n",
    "            x_out = torch.cat([x_out, x], dim=1)\n",
    "            \n",
    "        counter1 = counter1 + 1\n",
    "        if number_HL>counter1:\n",
    "            x_from_all = x_all[:,Splitted_Input_Size* counter1:Splitted_Input_Size*(counter1+1)]\n",
    "            x = self.lru(self.fc10(torch.cat([x_from_all, x], dim=1)))\n",
    "            x_out = torch.cat([x_out, x], dim=1)  \n",
    "            \n",
    "        counter1 = counter1 + 1\n",
    "        if number_HL>counter1:\n",
    "            x_from_all = x_all[:,Splitted_Input_Size* counter1:Splitted_Input_Size*(counter1+1)]\n",
    "            x = self.lru(self.fc11(torch.cat([x_from_all, x], dim=1)))\n",
    "            x_out = torch.cat([x_out, x], dim=1)\n",
    "            \n",
    "        counter1 = counter1 + 1\n",
    "        if number_HL>counter1:\n",
    "            x_from_all = x_all[:,Splitted_Input_Size* counter1:Splitted_Input_Size*(counter1+1)]\n",
    "            x = self.lru(self.fc12(torch.cat([x_from_all, x], dim=1)))\n",
    "            x_out = torch.cat([x_out, x], dim=1)\n",
    "            \n",
    "        counter1 = counter1 + 1\n",
    "        if number_HL>counter1:\n",
    "            x_from_all = x_all[:,Splitted_Input_Size* counter1:Splitted_Input_Size*(counter1+1)]\n",
    "            x = self.lru(self.fc13(torch.cat([x_from_all, x], dim=1)))\n",
    "            x_out = torch.cat([x_out, x], dim=1)\n",
    "            \n",
    "        counter1 = counter1 + 1\n",
    "        if number_HL>counter1:\n",
    "            x_from_all = x_all[:,Splitted_Input_Size* counter1:Splitted_Input_Size*(counter1+1)]\n",
    "            x = self.lru(self.fc14(torch.cat([x_from_all, x], dim=1)))\n",
    "            x_out = torch.cat([x_out, x], dim=1)\n",
    "            \n",
    "        counter1 = counter1 + 1\n",
    "        if number_HL>counter1:\n",
    "            x_from_all = x_all[:,Splitted_Input_Size* counter1:Splitted_Input_Size*(counter1+1)]\n",
    "            x = self.lru(self.fc15(torch.cat([x_from_all, x], dim=1)))\n",
    "            x_out = torch.cat([x_out, x], dim=1)\n",
    "            \n",
    "        counter1 = counter1 + 1\n",
    "        if number_HL>counter1:\n",
    "            x_from_all = x_all[:,Splitted_Input_Size* counter1:Splitted_Input_Size*(counter1+1)]\n",
    "            x = self.lru(self.fc16(torch.cat([x_from_all, x], dim=1)))\n",
    "            x_out = torch.cat([x_out, x], dim=1)\n",
    "            \n",
    "        counter1 = counter1 + 1\n",
    "        if number_HL>counter1:\n",
    "            x_from_all = x_all[:,Splitted_Input_Size* counter1:Splitted_Input_Size*(counter1+1)]\n",
    "            x = self.lru(self.fc17(torch.cat([x_from_all, x], dim=1)))\n",
    "            x_out = torch.cat([x_out, x], dim=1) \n",
    "            \n",
    "        counter1 = counter1 + 1\n",
    "        if number_HL>counter1:\n",
    "            x_from_all = x_all[:,Splitted_Input_Size* counter1:Splitted_Input_Size*(counter1+1)]\n",
    "            x = self.lru(self.fc18(torch.cat([x_from_all, x], dim=1)))\n",
    "            x_out = torch.cat([x_out, x], dim=1)\n",
    "            \n",
    "        counter1 = counter1 + 1\n",
    "        if number_HL>counter1:\n",
    "            x_from_all = x_all[:,Splitted_Input_Size* counter1:Splitted_Input_Size*(counter1+1)]\n",
    "            x = self.lru(self.fc19(torch.cat([x_from_all, x], dim=1)))\n",
    "            x_out = torch.cat([x_out, x], dim=1)\n",
    "            \n",
    "        counter1 = counter1 + 1\n",
    "        if number_HL>counter1:\n",
    "            x_from_all = x_all[:,Splitted_Input_Size* counter1:Splitted_Input_Size*(counter1+1)]\n",
    "            x = self.lru(self.fc20(torch.cat([x_from_all, x], dim=1)))\n",
    "            x_out = torch.cat([x_out, x], dim=1) \n",
    "        counter1 = counter1 + 1\n",
    "        if number_HL>counter1:\n",
    "            x_from_all = x_all[:,Splitted_Input_Size* counter1:Splitted_Input_Size*(counter1+1)]\n",
    "            x = self.lru(self.fc21(torch.cat([x_from_all, x], dim=1)))\n",
    "            x_out = torch.cat([x_out, x], dim=1)\n",
    "            \n",
    "        counter1 = counter1 + 1\n",
    "        if number_HL>counter1:\n",
    "            x_from_all = x_all[:,Splitted_Input_Size* counter1:Splitted_Input_Size*(counter1+1)]\n",
    "            x = self.lru(self.fc22(torch.cat([x_from_all, x], dim=1)))\n",
    "            x_out = torch.cat([x_out, x], dim=1)\n",
    "            \n",
    "        counter1 = counter1 + 1\n",
    "        if number_HL>counter1:\n",
    "            x_from_all = x_all[:,Splitted_Input_Size* counter1:Splitted_Input_Size*(counter1+1)]\n",
    "            x = self.lru(self.fc23(torch.cat([x_from_all, x], dim=1)))\n",
    "            x_out = torch.cat([x_out, x], dim=1)\n",
    "            \n",
    "        counter1 = counter1 + 1\n",
    "        if number_HL>counter1:\n",
    "            x_from_all = x_all[:,Splitted_Input_Size* counter1:Splitted_Input_Size*(counter1+1)]\n",
    "            x = self.lru(self.fc24(torch.cat([x_from_all, x], dim=1)))\n",
    "            x_out = torch.cat([x_out, x], dim=1)\n",
    "            \n",
    "        counter1 = counter1 + 1\n",
    "        if number_HL>counter1:\n",
    "            x_from_all = x_all[:,Splitted_Input_Size* counter1:Splitted_Input_Size*(counter1+1)]\n",
    "            x = self.lru(self.fc25(torch.cat([x_from_all, x], dim=1)))\n",
    "            x_out = torch.cat([x_out, x], dim=1)\n",
    "            \n",
    "        counter1 = counter1 + 1\n",
    "        if number_HL>counter1:\n",
    "            x_from_all = x_all[:,Splitted_Input_Size* counter1:Splitted_Input_Size*(counter1+1)]\n",
    "            x = self.lru(self.fc26(torch.cat([x_from_all, x], dim=1)))\n",
    "            x_out = torch.cat([x_out, x], dim=1)\n",
    "            \n",
    "        counter1 = counter1 + 1\n",
    "        if number_HL>counter1:\n",
    "            x_from_all = x_all[:,Splitted_Input_Size* counter1:Splitted_Input_Size*(counter1+1)]\n",
    "            x = self.lru(self.fc27(torch.cat([x_from_all, x], dim=1)))\n",
    "            x_out = torch.cat([x_out, x], dim=1) \n",
    "            \n",
    "        counter1 = counter1 + 1\n",
    "        if number_HL>counter1:\n",
    "            x_from_all = x_all[:,Splitted_Input_Size* counter1:Splitted_Input_Size*(counter1+1)]\n",
    "            x = self.lru(self.fc28(torch.cat([x_from_all, x], dim=1)))\n",
    "            x_out = torch.cat([x_out, x], dim=1)\n",
    "            \n",
    "        counter1 = counter1 + 1\n",
    "        if number_HL>counter1:\n",
    "            x_from_all = x_all[:,Splitted_Input_Size* counter1:Splitted_Input_Size*(counter1+1)]\n",
    "            x = self.lru(self.fc29(torch.cat([x_from_all, x], dim=1)))\n",
    "            x_out = torch.cat([x_out, x], dim=1)\n",
    "            \n",
    "        counter1 = counter1 + 1\n",
    "        if number_HL>counter1:\n",
    "            x_from_all = x_all[:,Splitted_Input_Size* counter1:Splitted_Input_Size*(counter1+1)]\n",
    "            x = self.lru(self.fc30(torch.cat([x_from_all, x], dim=1)))\n",
    "            x_out = torch.cat([x_out, x], dim=1)        \n",
    "        print(\"Size before output layer:\",x_out.size(dim=1))\n",
    "        x = self.fcx(x_out)\n",
    "        return x\n"
   ]
  },
  {
   "cell_type": "code",
   "execution_count": 5,
   "id": "70eed298",
   "metadata": {
    "execution": {
     "iopub.execute_input": "2022-06-19T11:29:32.122320Z",
     "iopub.status.busy": "2022-06-19T11:29:32.121761Z",
     "iopub.status.idle": "2022-06-19T11:29:32.133240Z",
     "shell.execute_reply": "2022-06-19T11:29:32.131276Z"
    },
    "papermill": {
     "duration": 0.021302,
     "end_time": "2022-06-19T11:29:32.137122",
     "exception": false,
     "start_time": "2022-06-19T11:29:32.115820",
     "status": "completed"
    },
    "tags": []
   },
   "outputs": [
    {
     "name": "stdout",
     "output_type": "stream",
     "text": [
      "Network Parameters: SpinalNet(\n",
      "  (lru): LeakyReLU(negative_slope=0.01)\n",
      "  (fc1): Linear(in_features=50, out_features=30, bias=True)\n",
      "  (fc2): Linear(in_features=80, out_features=30, bias=True)\n",
      "  (fc3): Linear(in_features=80, out_features=30, bias=True)\n",
      "  (fc4): Linear(in_features=80, out_features=30, bias=True)\n",
      "  (fc5): Linear(in_features=80, out_features=30, bias=True)\n",
      "  (fc6): Linear(in_features=80, out_features=30, bias=True)\n",
      "  (fc7): Linear(in_features=80, out_features=30, bias=True)\n",
      "  (fc8): Linear(in_features=80, out_features=30, bias=True)\n",
      "  (fc9): Linear(in_features=80, out_features=30, bias=True)\n",
      "  (fc10): Linear(in_features=80, out_features=30, bias=True)\n",
      "  (fc11): Linear(in_features=80, out_features=30, bias=True)\n",
      "  (fc12): Linear(in_features=80, out_features=30, bias=True)\n",
      "  (fc13): Linear(in_features=80, out_features=30, bias=True)\n",
      "  (fc14): Linear(in_features=80, out_features=30, bias=True)\n",
      "  (fc15): Linear(in_features=80, out_features=30, bias=True)\n",
      "  (fcx): Linear(in_features=450, out_features=7, bias=True)\n",
      ")\n"
     ]
    }
   ],
   "source": [
    "net = SpinalNet(Input_Size = 200, Number_of_Split =4, HL_width=30, number_HL=15, Output_Size=7, Activation_Function = nn.LeakyReLU())\n",
    "print('Network Parameters:',net)"
   ]
  },
  {
   "cell_type": "markdown",
   "id": "1dd91b6a",
   "metadata": {
    "papermill": {
     "duration": 0.003565,
     "end_time": "2022-06-19T11:29:32.144992",
     "exception": false,
     "start_time": "2022-06-19T11:29:32.141427",
     "status": "completed"
    },
    "tags": []
   },
   "source": [
    "### Printing several parameters inside the SpinalNet to ensure the network structure and the flow of numbers throughout the network"
   ]
  },
  {
   "cell_type": "code",
   "execution_count": 6,
   "id": "af2b6f94",
   "metadata": {
    "execution": {
     "iopub.execute_input": "2022-06-19T11:29:32.154888Z",
     "iopub.status.busy": "2022-06-19T11:29:32.154442Z",
     "iopub.status.idle": "2022-06-19T11:29:32.183826Z",
     "shell.execute_reply": "2022-06-19T11:29:32.182398Z"
    },
    "papermill": {
     "duration": 0.037715,
     "end_time": "2022-06-19T11:29:32.186532",
     "exception": false,
     "start_time": "2022-06-19T11:29:32.148817",
     "status": "completed"
    },
    "tags": []
   },
   "outputs": [
    {
     "name": "stdout",
     "output_type": "stream",
     "text": [
      "Size before output layer: 450\n"
     ]
    },
    {
     "data": {
      "text/plain": [
       "tensor([[ 0.0111, -0.0083, -0.0114,  0.0170,  0.0249, -0.0154,  0.0489]],\n",
       "       grad_fn=<AddmmBackward0>)"
      ]
     },
     "execution_count": 6,
     "metadata": {},
     "output_type": "execute_result"
    }
   ],
   "source": [
    "x = torch.zeros(1,200)\n",
    "\n",
    "net(x)"
   ]
  }
 ],
 "metadata": {
  "kernelspec": {
   "display_name": "Python 3",
   "language": "python",
   "name": "python3"
  },
  "language_info": {
   "codemirror_mode": {
    "name": "ipython",
    "version": 3
   },
   "file_extension": ".py",
   "mimetype": "text/x-python",
   "name": "python",
   "nbconvert_exporter": "python",
   "pygments_lexer": "ipython3",
   "version": "3.7.12"
  },
  "papermill": {
   "default_parameters": {},
   "duration": 13.453775,
   "end_time": "2022-06-19T11:29:33.215090",
   "environment_variables": {},
   "exception": null,
   "input_path": "__notebook__.ipynb",
   "output_path": "__notebook__.ipynb",
   "parameters": {},
   "start_time": "2022-06-19T11:29:19.761315",
   "version": "2.3.4"
  }
 },
 "nbformat": 4,
 "nbformat_minor": 5
}
