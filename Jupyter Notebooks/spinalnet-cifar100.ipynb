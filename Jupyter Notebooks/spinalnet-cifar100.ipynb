{
 "cells": [
  {
   "cell_type": "markdown",
   "metadata": {
    "papermill": {
     "duration": 0.00979,
     "end_time": "2021-11-16T03:22:08.422085",
     "exception": false,
     "start_time": "2021-11-16T03:22:08.412295",
     "status": "completed"
    },
    "tags": []
   },
   "source": [
    "This script implements wide Resnet 101 with Spinal FC on the CIFAR100 dataset.\n",
    "\n",
    "\n",
    "\n",
    "The SpinalNet is proposed in this paper:\n",
    "Kabir, H.M., Abdar, M., Jalali, S.M.J., Khosravi, A., Atiya, A.F., Nahavandi, S., and Srinivasan, D., 2020. SpinalNet: Deep Neural Network with Gradual Input. arXiv preprint arXiv:2007.03347.\n",
    "\n",
    "\n",
    "\n",
    "Paper Link: https://arxiv.org/abs/2007.03347\n",
    "Code Link: https://github.com/dipuk0506/SpinalNet"
   ]
  },
  {
   "cell_type": "code",
   "execution_count": 1,
   "metadata": {
    "execution": {
     "iopub.execute_input": "2021-11-16T03:22:08.446359Z",
     "iopub.status.busy": "2021-11-16T03:22:08.445680Z",
     "iopub.status.idle": "2021-11-16T03:22:09.969073Z",
     "shell.execute_reply": "2021-11-16T03:22:09.968534Z"
    },
    "papermill": {
     "duration": 1.538318,
     "end_time": "2021-11-16T03:22:09.969214",
     "exception": false,
     "start_time": "2021-11-16T03:22:08.430896",
     "status": "completed"
    },
    "tags": []
   },
   "outputs": [],
   "source": [
    "from __future__ import print_function, division\n",
    "\n",
    "import matplotlib\n",
    "import imageio\n",
    "import torch\n",
    "import torch.nn as nn\n",
    "import torch.optim as optim\n",
    "from torch.optim import lr_scheduler\n",
    "import numpy as np\n",
    "import torchvision\n",
    "from torchvision import datasets, models, transforms\n",
    "import matplotlib.pyplot as plt\n",
    "import time\n",
    "import os\n",
    "import copy\n",
    "\n",
    "device = torch.device(\"cuda:0\" if torch.cuda.is_available() else \"cpu\")"
   ]
  },
  {
   "cell_type": "markdown",
   "metadata": {
    "papermill": {
     "duration": 0.00908,
     "end_time": "2021-11-16T03:22:09.987930",
     "exception": false,
     "start_time": "2021-11-16T03:22:09.978850",
     "status": "completed"
    },
    "tags": []
   },
   "source": [
    "## Download and Data Split"
   ]
  },
  {
   "cell_type": "code",
   "execution_count": 2,
   "metadata": {
    "execution": {
     "iopub.execute_input": "2021-11-16T03:22:10.017101Z",
     "iopub.status.busy": "2021-11-16T03:22:10.016263Z",
     "iopub.status.idle": "2021-11-16T03:22:10.029307Z",
     "shell.execute_reply": "2021-11-16T03:22:10.028802Z"
    },
    "papermill": {
     "duration": 0.031635,
     "end_time": "2021-11-16T03:22:10.029398",
     "exception": false,
     "start_time": "2021-11-16T03:22:09.997763",
     "status": "completed"
    },
    "tags": []
   },
   "outputs": [],
   "source": [
    "folderlocation = './Data/'\n",
    "path = folderlocation\n",
    "if not os.path.exists(path):\n",
    "    os.mkdir(path)\n",
    "\n",
    "path = folderlocation + 'train/'\n",
    "if not os.path.exists(path):\n",
    "    os.mkdir(path)\n",
    "        \n",
    "path = folderlocation + 'valid/'\n",
    "if not os.path.exists(path):\n",
    "    os.mkdir(path)\n",
    "\n",
    "path = folderlocation + 'test/'\n",
    "if not os.path.exists(path):\n",
    "    os.mkdir(path)\n",
    "    \n",
    "for iter1 in range(100):    # 100 = number of classes\n",
    "    path = folderlocation + 'train/'+str(iter1)\n",
    "    if not os.path.exists(path):\n",
    "        os.mkdir(path)\n",
    "    path = folderlocation + 'valid/'+str(iter1)\n",
    "    if not os.path.exists(path):\n",
    "        os.mkdir(path)\n",
    "    \n",
    "    path = folderlocation + 'test/'+str(iter1)\n",
    "    if not os.path.exists(path):\n",
    "        os.mkdir(path)"
   ]
  },
  {
   "cell_type": "code",
   "execution_count": 3,
   "metadata": {
    "execution": {
     "iopub.execute_input": "2021-11-16T03:22:10.056136Z",
     "iopub.status.busy": "2021-11-16T03:22:10.055502Z",
     "iopub.status.idle": "2021-11-16T03:22:54.979259Z",
     "shell.execute_reply": "2021-11-16T03:22:54.979847Z"
    },
    "papermill": {
     "duration": 44.941667,
     "end_time": "2021-11-16T03:22:54.980007",
     "exception": false,
     "start_time": "2021-11-16T03:22:10.038340",
     "status": "completed"
    },
    "tags": []
   },
   "outputs": [
    {
     "name": "stdout",
     "output_type": "stream",
     "text": [
      "Downloading https://www.cs.toronto.edu/~kriz/cifar-100-python.tar.gz to /files/cifar-100-python.tar.gz\n"
     ]
    },
    {
     "data": {
      "application/vnd.jupyter.widget-view+json": {
       "model_id": "e30d8f57b34e42f2a88e6d8498335d5a",
       "version_major": 2,
       "version_minor": 0
      },
      "text/plain": [
       "HBox(children=(FloatProgress(value=1.0, bar_style='info', max=1.0), HTML(value='')))"
      ]
     },
     "metadata": {},
     "output_type": "display_data"
    },
    {
     "name": "stdout",
     "output_type": "stream",
     "text": [
      "Extracting /files/cifar-100-python.tar.gz to /files/\n",
      "Files already downloaded and verified\n"
     ]
    }
   ],
   "source": [
    "data_train = torchvision.datasets.CIFAR100('/files/', train=True, download=True,\n",
    "                             transform=torchvision.transforms.Compose([\n",
    "                             ]))\n",
    "        \n",
    "for iter1 in range(len(data_train)):\n",
    "    x, a = data_train[iter1] \n",
    "    if iter1%10 ==4:\n",
    "        imageio.imwrite(folderlocation + 'valid/'+str(a)+'/valid'+str(iter1)+'.png', x)\n",
    "    else:\n",
    "        imageio.imwrite(folderlocation + 'train/'+str(a)+'/train'+str(iter1)+'.png', x)\n",
    "    \n",
    "data_test = torchvision.datasets.CIFAR100('/files/', train=False, download=True,\n",
    "                             transform=torchvision.transforms.Compose([\n",
    "                             ]))\n",
    "\n",
    "for iter1 in range(len(data_test)):\n",
    "    x, a = data_test[iter1] \n",
    "    imageio.imwrite(folderlocation + 'test/'+str(a)+'/test'+str(iter1)+'.png', x)\n",
    "\n"
   ]
  },
  {
   "cell_type": "markdown",
   "metadata": {
    "papermill": {
     "duration": 0.011786,
     "end_time": "2021-11-16T03:22:55.003042",
     "exception": false,
     "start_time": "2021-11-16T03:22:54.991256",
     "status": "completed"
    },
    "tags": []
   },
   "source": [
    "## Dataloader"
   ]
  },
  {
   "cell_type": "code",
   "execution_count": 4,
   "metadata": {
    "_cell_guid": "b1076dfc-b9ad-4769-8c92-a6c4dae69d19",
    "_uuid": "8f2839f25d086af736a60e9eeb907d3b93b6e0e5",
    "execution": {
     "iopub.execute_input": "2021-11-16T03:22:55.040067Z",
     "iopub.status.busy": "2021-11-16T03:22:55.039249Z",
     "iopub.status.idle": "2021-11-16T03:22:55.278043Z",
     "shell.execute_reply": "2021-11-16T03:22:55.277507Z"
    },
    "papermill": {
     "duration": 0.264806,
     "end_time": "2021-11-16T03:22:55.278151",
     "exception": false,
     "start_time": "2021-11-16T03:22:55.013345",
     "status": "completed"
    },
    "tags": []
   },
   "outputs": [],
   "source": [
    "data_transforms = {\n",
    "    'train': transforms.Compose([\n",
    "        transforms.Resize((136,136)),\n",
    "        transforms.RandomRotation(15,),\n",
    "        transforms.RandomCrop(128),\n",
    "        transforms.RandomHorizontalFlip(),\n",
    "        transforms.ToTensor(),\n",
    "        transforms.Normalize(mean=[0.507, 0.487, 0.441], std=[0.267, 0.256, 0.276])\n",
    "    ]),\n",
    "    'valid': transforms.Compose([\n",
    "        transforms.Resize(128),\n",
    "        transforms.ToTensor(),\n",
    "        transforms.Normalize(mean=[0.507, 0.487, 0.441], std=[0.267, 0.256, 0.276])\n",
    "    ]),\n",
    "     'test': transforms.Compose([\n",
    "        transforms.Resize(128),\n",
    "        transforms.ToTensor(),\n",
    "        transforms.Normalize(mean=[0.507, 0.487, 0.441], std=[0.267, 0.256, 0.276])\n",
    "    ]),\n",
    "}\n",
    "\n",
    "\n",
    "\n",
    "data_dir = folderlocation\n",
    "image_datasets = {x: datasets.ImageFolder(os.path.join(data_dir, x),\n",
    "                                          data_transforms[x])\n",
    "                  for x in ['train', 'valid', 'test']}\n",
    "dataloaders = {x: torch.utils.data.DataLoader(image_datasets[x], batch_size=224,\n",
    "                                             shuffle=True, num_workers=0)\n",
    "              for x in ['train', 'valid', 'test']}\n",
    "dataset_sizes = {x: len(image_datasets[x]) for x in ['train', 'valid', 'test']}\n",
    "\n",
    "class_names = image_datasets['train'].classes\n",
    "\n",
    "device = torch.device(\"cuda:0\" if torch.cuda.is_available() else \"cpu\")\n",
    "def imshow(inp, title=None):\n",
    "    \"\"\"Imshow for Tensor.\"\"\"\n",
    "    inp = inp.numpy().transpose((1, 2, 0))\n",
    "    mean = np.array([0.485, 0.456, 0.406])\n",
    "    std = np.array([0.229, 0.224, 0.225])\n",
    "    inp = std * inp + mean\n",
    "    inp = np.clip(inp, 0, 1)\n",
    "    plt.imshow(inp)\n",
    "    if title is not None:\n",
    "        plt.title(title)\n",
    "    plt.pause(0.001)  # pause a bit so that plots are updated"
   ]
  },
  {
   "cell_type": "markdown",
   "metadata": {
    "papermill": {
     "duration": 0.010672,
     "end_time": "2021-11-16T03:22:55.299830",
     "exception": false,
     "start_time": "2021-11-16T03:22:55.289158",
     "status": "completed"
    },
    "tags": []
   },
   "source": [
    "## Model Selection"
   ]
  },
  {
   "cell_type": "code",
   "execution_count": 5,
   "metadata": {
    "_cell_guid": "79c7e3d0-c299-4dcb-8224-4455121ee9b0",
    "_uuid": "d629ff2d2480ee46fbb7e2d37f6b5fab8052498a",
    "execution": {
     "iopub.execute_input": "2021-11-16T03:22:55.337513Z",
     "iopub.status.busy": "2021-11-16T03:22:55.336853Z",
     "iopub.status.idle": "2021-11-16T03:23:09.314720Z",
     "shell.execute_reply": "2021-11-16T03:23:09.315897Z"
    },
    "papermill": {
     "duration": 14.005604,
     "end_time": "2021-11-16T03:23:09.316105",
     "exception": false,
     "start_time": "2021-11-16T03:22:55.310501",
     "status": "completed"
    },
    "tags": []
   },
   "outputs": [
    {
     "name": "stderr",
     "output_type": "stream",
     "text": [
      "Downloading: \"https://download.pytorch.org/models/wide_resnet101_2-32ee1156.pth\" to /root/.cache/torch/checkpoints/wide_resnet101_2-32ee1156.pth\n"
     ]
    },
    {
     "data": {
      "application/vnd.jupyter.widget-view+json": {
       "model_id": "bdc8621bd94447438641f07143599f33",
       "version_major": 2,
       "version_minor": 0
      },
      "text/plain": [
       "HBox(children=(FloatProgress(value=0.0, max=254695146.0), HTML(value='')))"
      ]
     },
     "metadata": {},
     "output_type": "display_data"
    },
    {
     "name": "stdout",
     "output_type": "stream",
     "text": [
      "\n"
     ]
    }
   ],
   "source": [
    "\n",
    "model_ft = models.wide_resnet101_2(pretrained=True)\n",
    "num_ftrs = model_ft.fc.in_features\n",
    "\n",
    "half_in_size = round(num_ftrs/2)\n",
    "layer_width = 200 #Small for Resnet, large for VGG\n",
    "Num_class=100\n",
    "\n",
    "class SpinalNet_ResNet(nn.Module):\n",
    "    def __init__(self):\n",
    "        super(SpinalNet_ResNet, self).__init__()\n",
    "        \n",
    "        self.fc_spinal_layer1 = nn.Sequential(\n",
    "            nn.Linear(half_in_size, layer_width),\n",
    "            nn.ReLU(inplace=True),)\n",
    "        self.fc_spinal_layer2 = nn.Sequential(\n",
    "            nn.Linear(half_in_size+layer_width, layer_width),\n",
    "            nn.ReLU(inplace=True),)\n",
    "        self.fc_spinal_layer3 = nn.Sequential(\n",
    "            nn.Linear(half_in_size+layer_width, layer_width),\n",
    "            nn.ReLU(inplace=True),)\n",
    "        self.fc_spinal_layer4 = nn.Sequential(\n",
    "            nn.Linear(half_in_size+layer_width, layer_width),\n",
    "            nn.ReLU(inplace=True),)\n",
    "        self.fc_out = nn.Sequential(\n",
    "            nn.Linear(layer_width*4, Num_class),)\n",
    "        \n",
    "    def forward(self, x):\n",
    "        x1 = self.fc_spinal_layer1(x[:, 0:half_in_size])\n",
    "        x2 = self.fc_spinal_layer2(torch.cat([ x[:,half_in_size:2*half_in_size], x1], dim=1))\n",
    "        x3 = self.fc_spinal_layer3(torch.cat([ x[:,0:half_in_size], x2], dim=1))\n",
    "        x4 = self.fc_spinal_layer4(torch.cat([ x[:,half_in_size:2*half_in_size], x3], dim=1))\n",
    "        \n",
    "        \n",
    "        x = torch.cat([x1, x2], dim=1)\n",
    "        x = torch.cat([x, x3], dim=1)\n",
    "        x = torch.cat([x, x4], dim=1)\n",
    "\n",
    "        \n",
    "        x = self.fc_out(x)\n",
    "        return x\n",
    "    \n",
    "\n",
    "\n",
    "\n",
    "'''\n",
    "Changing the fully connected layer to SpinalNet or VGG or ResNet\n",
    "'''\n",
    "\n",
    "#model_ft.fc = nn.Linear(num_ftrs, 100)\n",
    "model_ft.fc = SpinalNet_ResNet() #SpinalNet_VGG\n"
   ]
  },
  {
   "cell_type": "markdown",
   "metadata": {
    "papermill": {
     "duration": 0.020755,
     "end_time": "2021-11-16T03:23:09.359031",
     "exception": false,
     "start_time": "2021-11-16T03:23:09.338276",
     "status": "completed"
    },
    "tags": []
   },
   "source": [
    "## Training Function"
   ]
  },
  {
   "cell_type": "code",
   "execution_count": 6,
   "metadata": {
    "execution": {
     "iopub.execute_input": "2021-11-16T03:23:09.413167Z",
     "iopub.status.busy": "2021-11-16T03:23:09.410348Z",
     "iopub.status.idle": "2021-11-16T03:23:13.042972Z",
     "shell.execute_reply": "2021-11-16T03:23:13.042009Z"
    },
    "papermill": {
     "duration": 3.662823,
     "end_time": "2021-11-16T03:23:13.043095",
     "exception": false,
     "start_time": "2021-11-16T03:23:09.380272",
     "status": "completed"
    },
    "tags": []
   },
   "outputs": [],
   "source": [
    "def train_model(model, criterion, optimizer, scheduler, num_epochs=25):\n",
    "    since = time.time()\n",
    "\n",
    "    best_model_wts = copy.deepcopy(model.state_dict())\n",
    "    best_acc = 0.0\n",
    "    test_token=0\n",
    "\n",
    "    for epoch in range(num_epochs):\n",
    "        print('Epoch {}/{}'.format(epoch, num_epochs - 1))\n",
    "        print('-' * 10)\n",
    "\n",
    "        # Each epoch has a training and validation phase\n",
    "        for phase in ['train', 'valid', 'test']:\n",
    "            '''\n",
    "            Test when a better validation result is found\n",
    "            '''\n",
    "            if test_token ==0 and phase == 'test':\n",
    "                continue\n",
    "            test_token =0\n",
    "            \n",
    "            \n",
    "            if phase == 'train':\n",
    "                model.train()  # Set model to training mode\n",
    "            else:\n",
    "                model.eval()   # Set model to evaluate mode\n",
    "\n",
    "            running_loss = 0.0\n",
    "            running_corrects = 0\n",
    "\n",
    "            # Iterate over data.\n",
    "            for inputs, labels in dataloaders[phase]:\n",
    "                inputs = inputs.to(device)\n",
    "                labels = labels.to(device)\n",
    "\n",
    "                # zero the parameter gradients\n",
    "                optimizer.zero_grad()\n",
    "\n",
    "                # forward\n",
    "                # track history if only in train\n",
    "                with torch.set_grad_enabled(phase == 'train'):\n",
    "                    outputs = model(inputs)\n",
    "                    _, preds = torch.max(outputs, 1)\n",
    "                    loss = criterion(outputs, labels)\n",
    "\n",
    "                    # backward + optimize only if in training phase\n",
    "                    if phase == 'train':\n",
    "                        loss.backward()\n",
    "                        optimizer.step()\n",
    "\n",
    "                # statistics\n",
    "                running_loss += loss.item() * inputs.size(0)\n",
    "                running_corrects += torch.sum(preds == labels.data)\n",
    "            if phase == 'train':\n",
    "                scheduler.step()\n",
    "\n",
    "            epoch_loss = running_loss / dataset_sizes[phase]\n",
    "            epoch_acc = running_corrects.double() / dataset_sizes[phase]\n",
    "\n",
    "            print('{} Loss: {:.4f} Acc: {:.4f}'.format(\n",
    "                phase, epoch_loss, epoch_acc))\n",
    "\n",
    "            # deep copy the model\n",
    "            if phase == 'valid' and epoch_acc > best_acc:\n",
    "                best_acc = epoch_acc\n",
    "                best_model_wts = copy.deepcopy(model.state_dict())\n",
    "                test_token =1\n",
    "\n",
    "\n",
    "        print()\n",
    "\n",
    "    time_elapsed = time.time() - since\n",
    "    print('Training complete in {:.0f}m {:.0f}s'.format(\n",
    "        time_elapsed // 60, time_elapsed % 60))\n",
    "    print('Best val Acc: {:4f}'.format(best_acc))\n",
    "\n",
    "    # load best model weights\n",
    "    model.load_state_dict(best_model_wts)\n",
    "    return model\n",
    "\n",
    "\n",
    "model_ft = model_ft.to(device)\n",
    "\n",
    "criterion = nn.CrossEntropyLoss()\n"
   ]
  },
  {
   "cell_type": "markdown",
   "metadata": {
    "papermill": {
     "duration": 0.011564,
     "end_time": "2021-11-16T03:23:13.066844",
     "exception": false,
     "start_time": "2021-11-16T03:23:13.055280",
     "status": "completed"
    },
    "tags": []
   },
   "source": [
    "## Training lr = 0.01"
   ]
  },
  {
   "cell_type": "code",
   "execution_count": 7,
   "metadata": {
    "execution": {
     "iopub.execute_input": "2021-11-16T03:23:13.097127Z",
     "iopub.status.busy": "2021-11-16T03:23:13.096368Z",
     "iopub.status.idle": "2021-11-16T03:49:51.645806Z",
     "shell.execute_reply": "2021-11-16T03:49:51.646500Z"
    },
    "papermill": {
     "duration": 1598.568047,
     "end_time": "2021-11-16T03:49:51.646684",
     "exception": false,
     "start_time": "2021-11-16T03:23:13.078637",
     "status": "completed"
    },
    "tags": []
   },
   "outputs": [
    {
     "name": "stdout",
     "output_type": "stream",
     "text": [
      "Epoch 0/4\n",
      "----------\n",
      "train Loss: 2.3512 Acc: 0.4876\n",
      "valid Loss: 0.9322 Acc: 0.7278\n",
      "test Loss: 0.9034 Acc: 0.7395\n",
      "\n",
      "Epoch 1/4\n",
      "----------\n",
      "train Loss: 0.6831 Acc: 0.7964\n",
      "valid Loss: 0.7142 Acc: 0.7946\n",
      "test Loss: 0.7191 Acc: 0.7889\n",
      "\n",
      "Epoch 2/4\n",
      "----------\n",
      "train Loss: 0.4553 Acc: 0.8608\n",
      "valid Loss: 0.6645 Acc: 0.8068\n",
      "test Loss: 0.6466 Acc: 0.8083\n",
      "\n",
      "Epoch 3/4\n",
      "----------\n",
      "train Loss: 0.3234 Acc: 0.8984\n",
      "valid Loss: 0.6633 Acc: 0.8098\n",
      "test Loss: 0.6745 Acc: 0.8080\n",
      "\n",
      "Epoch 4/4\n",
      "----------\n",
      "train Loss: 0.2344 Acc: 0.9262\n",
      "valid Loss: 0.6324 Acc: 0.8230\n",
      "test Loss: 0.6751 Acc: 0.8170\n",
      "\n",
      "Training complete in 26m 38s\n",
      "Best val Acc: 0.823000\n"
     ]
    }
   ],
   "source": [
    "# Observe that all parameters are being optimized\n",
    "optimizer_ft = optim.SGD(model_ft.parameters(), lr=0.01, momentum=0.9)\n",
    "\n",
    "# Decay LR by a factor of 0.1 every 7 epochs\n",
    "exp_lr_scheduler = lr_scheduler.StepLR(optimizer_ft, step_size=7, gamma=0.1)\n",
    "\n",
    "model_ft = train_model(model_ft, criterion, optimizer_ft, exp_lr_scheduler, num_epochs=5)"
   ]
  },
  {
   "cell_type": "markdown",
   "metadata": {
    "papermill": {
     "duration": 0.015768,
     "end_time": "2021-11-16T03:49:51.680313",
     "exception": false,
     "start_time": "2021-11-16T03:49:51.664545",
     "status": "completed"
    },
    "tags": []
   },
   "source": [
    "## Training lr = 0.001"
   ]
  },
  {
   "cell_type": "code",
   "execution_count": 8,
   "metadata": {
    "execution": {
     "iopub.execute_input": "2021-11-16T03:49:51.720020Z",
     "iopub.status.busy": "2021-11-16T03:49:51.719273Z",
     "iopub.status.idle": "2021-11-16T04:16:07.983525Z",
     "shell.execute_reply": "2021-11-16T04:16:07.984042Z"
    },
    "papermill": {
     "duration": 1576.287586,
     "end_time": "2021-11-16T04:16:07.984191",
     "exception": false,
     "start_time": "2021-11-16T03:49:51.696605",
     "status": "completed"
    },
    "tags": []
   },
   "outputs": [
    {
     "name": "stdout",
     "output_type": "stream",
     "text": [
      "Epoch 0/4\n",
      "----------\n",
      "train Loss: 0.1285 Acc: 0.9618\n",
      "valid Loss: 0.5306 Acc: 0.8510\n",
      "test Loss: 0.5465 Acc: 0.8493\n",
      "\n",
      "Epoch 1/4\n",
      "----------\n",
      "train Loss: 0.0885 Acc: 0.9750\n",
      "valid Loss: 0.5169 Acc: 0.8590\n",
      "test Loss: 0.5272 Acc: 0.8538\n",
      "\n",
      "Epoch 2/4\n",
      "----------\n",
      "train Loss: 0.0727 Acc: 0.9814\n",
      "valid Loss: 0.5141 Acc: 0.8580\n",
      "\n",
      "Epoch 3/4\n",
      "----------\n",
      "train Loss: 0.0648 Acc: 0.9825\n",
      "valid Loss: 0.5144 Acc: 0.8598\n",
      "test Loss: 0.5228 Acc: 0.8561\n",
      "\n",
      "Epoch 4/4\n",
      "----------\n",
      "train Loss: 0.0556 Acc: 0.9860\n",
      "valid Loss: 0.5169 Acc: 0.8616\n",
      "test Loss: 0.5278 Acc: 0.8571\n",
      "\n",
      "Training complete in 26m 16s\n",
      "Best val Acc: 0.861600\n"
     ]
    }
   ],
   "source": [
    "# Observe that all parameters are being optimized\n",
    "optimizer_ft = optim.SGD(model_ft.parameters(), lr=0.001, momentum=0.9)\n",
    "\n",
    "# Decay LR by a factor of 0.1 every 7 epochs\n",
    "exp_lr_scheduler = lr_scheduler.StepLR(optimizer_ft, step_size=7, gamma=0.1)\n",
    "\n",
    "model_ft = train_model(model_ft, criterion, optimizer_ft, exp_lr_scheduler, num_epochs=5)"
   ]
  },
  {
   "cell_type": "markdown",
   "metadata": {
    "papermill": {
     "duration": 0.030993,
     "end_time": "2021-11-16T04:16:08.036152",
     "exception": false,
     "start_time": "2021-11-16T04:16:08.005159",
     "status": "completed"
    },
    "tags": []
   },
   "source": [
    "## Remove Downloaded Data"
   ]
  },
  {
   "cell_type": "code",
   "execution_count": 9,
   "metadata": {
    "execution": {
     "iopub.execute_input": "2021-11-16T04:16:08.117445Z",
     "iopub.status.busy": "2021-11-16T04:16:08.116517Z",
     "iopub.status.idle": "2021-11-16T04:16:09.908683Z",
     "shell.execute_reply": "2021-11-16T04:16:09.907668Z"
    },
    "papermill": {
     "duration": 1.838652,
     "end_time": "2021-11-16T04:16:09.908800",
     "exception": false,
     "start_time": "2021-11-16T04:16:08.070148",
     "status": "completed"
    },
    "tags": []
   },
   "outputs": [],
   "source": [
    "import shutil\n",
    "shutil.rmtree(folderlocation)"
   ]
  }
 ],
 "metadata": {
  "kernelspec": {
   "display_name": "Python 3",
   "language": "python",
   "name": "python3"
  },
  "language_info": {
   "codemirror_mode": {
    "name": "ipython",
    "version": 3
   },
   "file_extension": ".py",
   "mimetype": "text/x-python",
   "name": "python",
   "nbconvert_exporter": "python",
   "pygments_lexer": "ipython3",
   "version": "3.7.6"
  },
  "papermill": {
   "duration": 3245.361929,
   "end_time": "2021-11-16T04:16:10.139700",
   "environment_variables": {},
   "exception": null,
   "input_path": "__notebook__.ipynb",
   "output_path": "__notebook__.ipynb",
   "parameters": {},
   "start_time": "2021-11-16T03:22:04.777771",
   "version": "2.1.0"
  },
  "widgets": {
   "application/vnd.jupyter.widget-state+json": {
    "state": {
     "09b01cd1dd3c4ef2b2bdcc6dd09b1327": {
      "model_module": "@jupyter-widgets/base",
      "model_module_version": "1.2.0",
      "model_name": "LayoutModel",
      "state": {
       "_model_module": "@jupyter-widgets/base",
       "_model_module_version": "1.2.0",
       "_model_name": "LayoutModel",
       "_view_count": null,
       "_view_module": "@jupyter-widgets/base",
       "_view_module_version": "1.2.0",
       "_view_name": "LayoutView",
       "align_content": null,
       "align_items": null,
       "align_self": null,
       "border": null,
       "bottom": null,
       "display": null,
       "flex": null,
       "flex_flow": null,
       "grid_area": null,
       "grid_auto_columns": null,
       "grid_auto_flow": null,
       "grid_auto_rows": null,
       "grid_column": null,
       "grid_gap": null,
       "grid_row": null,
       "grid_template_areas": null,
       "grid_template_columns": null,
       "grid_template_rows": null,
       "height": null,
       "justify_content": null,
       "justify_items": null,
       "left": null,
       "margin": null,
       "max_height": null,
       "max_width": null,
       "min_height": null,
       "min_width": null,
       "object_fit": null,
       "object_position": null,
       "order": null,
       "overflow": null,
       "overflow_x": null,
       "overflow_y": null,
       "padding": null,
       "right": null,
       "top": null,
       "visibility": null,
       "width": null
      }
     },
     "268c73be320b4970b628e4c799e02d12": {
      "model_module": "@jupyter-widgets/base",
      "model_module_version": "1.2.0",
      "model_name": "LayoutModel",
      "state": {
       "_model_module": "@jupyter-widgets/base",
       "_model_module_version": "1.2.0",
       "_model_name": "LayoutModel",
       "_view_count": null,
       "_view_module": "@jupyter-widgets/base",
       "_view_module_version": "1.2.0",
       "_view_name": "LayoutView",
       "align_content": null,
       "align_items": null,
       "align_self": null,
       "border": null,
       "bottom": null,
       "display": null,
       "flex": null,
       "flex_flow": null,
       "grid_area": null,
       "grid_auto_columns": null,
       "grid_auto_flow": null,
       "grid_auto_rows": null,
       "grid_column": null,
       "grid_gap": null,
       "grid_row": null,
       "grid_template_areas": null,
       "grid_template_columns": null,
       "grid_template_rows": null,
       "height": null,
       "justify_content": null,
       "justify_items": null,
       "left": null,
       "margin": null,
       "max_height": null,
       "max_width": null,
       "min_height": null,
       "min_width": null,
       "object_fit": null,
       "object_position": null,
       "order": null,
       "overflow": null,
       "overflow_x": null,
       "overflow_y": null,
       "padding": null,
       "right": null,
       "top": null,
       "visibility": null,
       "width": null
      }
     },
     "2cc79dcfc4e8435a938aba37c949f07a": {
      "model_module": "@jupyter-widgets/controls",
      "model_module_version": "1.5.0",
      "model_name": "HTMLModel",
      "state": {
       "_dom_classes": [],
       "_model_module": "@jupyter-widgets/controls",
       "_model_module_version": "1.5.0",
       "_model_name": "HTMLModel",
       "_view_count": null,
       "_view_module": "@jupyter-widgets/controls",
       "_view_module_version": "1.5.0",
       "_view_name": "HTMLView",
       "description": "",
       "description_tooltip": null,
       "layout": "IPY_MODEL_5b5d9f7990e94cda83a8845a357bf400",
       "placeholder": "​",
       "style": "IPY_MODEL_fc2100b796c043f894ecaedbe166d8b5",
       "value": " 169009152/? [00:20&lt;00:00, 44274338.07it/s]"
      }
     },
     "4b3668816fbb4c3889be3fe621dcd120": {
      "model_module": "@jupyter-widgets/controls",
      "model_module_version": "1.5.0",
      "model_name": "DescriptionStyleModel",
      "state": {
       "_model_module": "@jupyter-widgets/controls",
       "_model_module_version": "1.5.0",
       "_model_name": "DescriptionStyleModel",
       "_view_count": null,
       "_view_module": "@jupyter-widgets/base",
       "_view_module_version": "1.2.0",
       "_view_name": "StyleView",
       "description_width": ""
      }
     },
     "5a1bcca23c5d41478c0437dba587f77e": {
      "model_module": "@jupyter-widgets/controls",
      "model_module_version": "1.5.0",
      "model_name": "ProgressStyleModel",
      "state": {
       "_model_module": "@jupyter-widgets/controls",
       "_model_module_version": "1.5.0",
       "_model_name": "ProgressStyleModel",
       "_view_count": null,
       "_view_module": "@jupyter-widgets/base",
       "_view_module_version": "1.2.0",
       "_view_name": "StyleView",
       "bar_color": null,
       "description_width": "initial"
      }
     },
     "5b5d9f7990e94cda83a8845a357bf400": {
      "model_module": "@jupyter-widgets/base",
      "model_module_version": "1.2.0",
      "model_name": "LayoutModel",
      "state": {
       "_model_module": "@jupyter-widgets/base",
       "_model_module_version": "1.2.0",
       "_model_name": "LayoutModel",
       "_view_count": null,
       "_view_module": "@jupyter-widgets/base",
       "_view_module_version": "1.2.0",
       "_view_name": "LayoutView",
       "align_content": null,
       "align_items": null,
       "align_self": null,
       "border": null,
       "bottom": null,
       "display": null,
       "flex": null,
       "flex_flow": null,
       "grid_area": null,
       "grid_auto_columns": null,
       "grid_auto_flow": null,
       "grid_auto_rows": null,
       "grid_column": null,
       "grid_gap": null,
       "grid_row": null,
       "grid_template_areas": null,
       "grid_template_columns": null,
       "grid_template_rows": null,
       "height": null,
       "justify_content": null,
       "justify_items": null,
       "left": null,
       "margin": null,
       "max_height": null,
       "max_width": null,
       "min_height": null,
       "min_width": null,
       "object_fit": null,
       "object_position": null,
       "order": null,
       "overflow": null,
       "overflow_x": null,
       "overflow_y": null,
       "padding": null,
       "right": null,
       "top": null,
       "visibility": null,
       "width": null
      }
     },
     "7934cb13bc27429884a069ed63f84980": {
      "model_module": "@jupyter-widgets/base",
      "model_module_version": "1.2.0",
      "model_name": "LayoutModel",
      "state": {
       "_model_module": "@jupyter-widgets/base",
       "_model_module_version": "1.2.0",
       "_model_name": "LayoutModel",
       "_view_count": null,
       "_view_module": "@jupyter-widgets/base",
       "_view_module_version": "1.2.0",
       "_view_name": "LayoutView",
       "align_content": null,
       "align_items": null,
       "align_self": null,
       "border": null,
       "bottom": null,
       "display": null,
       "flex": null,
       "flex_flow": null,
       "grid_area": null,
       "grid_auto_columns": null,
       "grid_auto_flow": null,
       "grid_auto_rows": null,
       "grid_column": null,
       "grid_gap": null,
       "grid_row": null,
       "grid_template_areas": null,
       "grid_template_columns": null,
       "grid_template_rows": null,
       "height": null,
       "justify_content": null,
       "justify_items": null,
       "left": null,
       "margin": null,
       "max_height": null,
       "max_width": null,
       "min_height": null,
       "min_width": null,
       "object_fit": null,
       "object_position": null,
       "order": null,
       "overflow": null,
       "overflow_x": null,
       "overflow_y": null,
       "padding": null,
       "right": null,
       "top": null,
       "visibility": null,
       "width": null
      }
     },
     "79760e280c10423abf39228a080bb9e5": {
      "model_module": "@jupyter-widgets/controls",
      "model_module_version": "1.5.0",
      "model_name": "FloatProgressModel",
      "state": {
       "_dom_classes": [],
       "_model_module": "@jupyter-widgets/controls",
       "_model_module_version": "1.5.0",
       "_model_name": "FloatProgressModel",
       "_view_count": null,
       "_view_module": "@jupyter-widgets/controls",
       "_view_module_version": "1.5.0",
       "_view_name": "ProgressView",
       "bar_style": "success",
       "description": "100%",
       "description_tooltip": null,
       "layout": "IPY_MODEL_959097317a90496e8bca8f0526892d97",
       "max": 254695146.0,
       "min": 0.0,
       "orientation": "horizontal",
       "style": "IPY_MODEL_bae614eedbd24750834dbb10e0a480eb",
       "value": 254695146.0
      }
     },
     "959097317a90496e8bca8f0526892d97": {
      "model_module": "@jupyter-widgets/base",
      "model_module_version": "1.2.0",
      "model_name": "LayoutModel",
      "state": {
       "_model_module": "@jupyter-widgets/base",
       "_model_module_version": "1.2.0",
       "_model_name": "LayoutModel",
       "_view_count": null,
       "_view_module": "@jupyter-widgets/base",
       "_view_module_version": "1.2.0",
       "_view_name": "LayoutView",
       "align_content": null,
       "align_items": null,
       "align_self": null,
       "border": null,
       "bottom": null,
       "display": null,
       "flex": null,
       "flex_flow": null,
       "grid_area": null,
       "grid_auto_columns": null,
       "grid_auto_flow": null,
       "grid_auto_rows": null,
       "grid_column": null,
       "grid_gap": null,
       "grid_row": null,
       "grid_template_areas": null,
       "grid_template_columns": null,
       "grid_template_rows": null,
       "height": null,
       "justify_content": null,
       "justify_items": null,
       "left": null,
       "margin": null,
       "max_height": null,
       "max_width": null,
       "min_height": null,
       "min_width": null,
       "object_fit": null,
       "object_position": null,
       "order": null,
       "overflow": null,
       "overflow_x": null,
       "overflow_y": null,
       "padding": null,
       "right": null,
       "top": null,
       "visibility": null,
       "width": null
      }
     },
     "bae614eedbd24750834dbb10e0a480eb": {
      "model_module": "@jupyter-widgets/controls",
      "model_module_version": "1.5.0",
      "model_name": "ProgressStyleModel",
      "state": {
       "_model_module": "@jupyter-widgets/controls",
       "_model_module_version": "1.5.0",
       "_model_name": "ProgressStyleModel",
       "_view_count": null,
       "_view_module": "@jupyter-widgets/base",
       "_view_module_version": "1.2.0",
       "_view_name": "StyleView",
       "bar_color": null,
       "description_width": "initial"
      }
     },
     "bdc8621bd94447438641f07143599f33": {
      "model_module": "@jupyter-widgets/controls",
      "model_module_version": "1.5.0",
      "model_name": "HBoxModel",
      "state": {
       "_dom_classes": [],
       "_model_module": "@jupyter-widgets/controls",
       "_model_module_version": "1.5.0",
       "_model_name": "HBoxModel",
       "_view_count": null,
       "_view_module": "@jupyter-widgets/controls",
       "_view_module_version": "1.5.0",
       "_view_name": "HBoxView",
       "box_style": "",
       "children": [
        "IPY_MODEL_79760e280c10423abf39228a080bb9e5",
        "IPY_MODEL_f4b3023d101943e791c0b567ad0bae1a"
       ],
       "layout": "IPY_MODEL_09b01cd1dd3c4ef2b2bdcc6dd09b1327"
      }
     },
     "e30d8f57b34e42f2a88e6d8498335d5a": {
      "model_module": "@jupyter-widgets/controls",
      "model_module_version": "1.5.0",
      "model_name": "HBoxModel",
      "state": {
       "_dom_classes": [],
       "_model_module": "@jupyter-widgets/controls",
       "_model_module_version": "1.5.0",
       "_model_name": "HBoxModel",
       "_view_count": null,
       "_view_module": "@jupyter-widgets/controls",
       "_view_module_version": "1.5.0",
       "_view_name": "HBoxView",
       "box_style": "",
       "children": [
        "IPY_MODEL_f893cbd2d06a46d980a2626edd307bc4",
        "IPY_MODEL_2cc79dcfc4e8435a938aba37c949f07a"
       ],
       "layout": "IPY_MODEL_268c73be320b4970b628e4c799e02d12"
      }
     },
     "f4b3023d101943e791c0b567ad0bae1a": {
      "model_module": "@jupyter-widgets/controls",
      "model_module_version": "1.5.0",
      "model_name": "HTMLModel",
      "state": {
       "_dom_classes": [],
       "_model_module": "@jupyter-widgets/controls",
       "_model_module_version": "1.5.0",
       "_model_name": "HTMLModel",
       "_view_count": null,
       "_view_module": "@jupyter-widgets/controls",
       "_view_module_version": "1.5.0",
       "_view_name": "HTMLView",
       "description": "",
       "description_tooltip": null,
       "layout": "IPY_MODEL_f55da0a701c045af9d7f0ae245ac2560",
       "placeholder": "​",
       "style": "IPY_MODEL_4b3668816fbb4c3889be3fe621dcd120",
       "value": " 243M/243M [00:11&lt;00:00, 22.9MB/s]"
      }
     },
     "f55da0a701c045af9d7f0ae245ac2560": {
      "model_module": "@jupyter-widgets/base",
      "model_module_version": "1.2.0",
      "model_name": "LayoutModel",
      "state": {
       "_model_module": "@jupyter-widgets/base",
       "_model_module_version": "1.2.0",
       "_model_name": "LayoutModel",
       "_view_count": null,
       "_view_module": "@jupyter-widgets/base",
       "_view_module_version": "1.2.0",
       "_view_name": "LayoutView",
       "align_content": null,
       "align_items": null,
       "align_self": null,
       "border": null,
       "bottom": null,
       "display": null,
       "flex": null,
       "flex_flow": null,
       "grid_area": null,
       "grid_auto_columns": null,
       "grid_auto_flow": null,
       "grid_auto_rows": null,
       "grid_column": null,
       "grid_gap": null,
       "grid_row": null,
       "grid_template_areas": null,
       "grid_template_columns": null,
       "grid_template_rows": null,
       "height": null,
       "justify_content": null,
       "justify_items": null,
       "left": null,
       "margin": null,
       "max_height": null,
       "max_width": null,
       "min_height": null,
       "min_width": null,
       "object_fit": null,
       "object_position": null,
       "order": null,
       "overflow": null,
       "overflow_x": null,
       "overflow_y": null,
       "padding": null,
       "right": null,
       "top": null,
       "visibility": null,
       "width": null
      }
     },
     "f893cbd2d06a46d980a2626edd307bc4": {
      "model_module": "@jupyter-widgets/controls",
      "model_module_version": "1.5.0",
      "model_name": "FloatProgressModel",
      "state": {
       "_dom_classes": [],
       "_model_module": "@jupyter-widgets/controls",
       "_model_module_version": "1.5.0",
       "_model_name": "FloatProgressModel",
       "_view_count": null,
       "_view_module": "@jupyter-widgets/controls",
       "_view_module_version": "1.5.0",
       "_view_name": "ProgressView",
       "bar_style": "info",
       "description": "",
       "description_tooltip": null,
       "layout": "IPY_MODEL_7934cb13bc27429884a069ed63f84980",
       "max": 1.0,
       "min": 0.0,
       "orientation": "horizontal",
       "style": "IPY_MODEL_5a1bcca23c5d41478c0437dba587f77e",
       "value": 1.0
      }
     },
     "fc2100b796c043f894ecaedbe166d8b5": {
      "model_module": "@jupyter-widgets/controls",
      "model_module_version": "1.5.0",
      "model_name": "DescriptionStyleModel",
      "state": {
       "_model_module": "@jupyter-widgets/controls",
       "_model_module_version": "1.5.0",
       "_model_name": "DescriptionStyleModel",
       "_view_count": null,
       "_view_module": "@jupyter-widgets/base",
       "_view_module_version": "1.2.0",
       "_view_name": "StyleView",
       "description_width": ""
      }
     }
    },
    "version_major": 2,
    "version_minor": 0
   }
  }
 },
 "nbformat": 4,
 "nbformat_minor": 4
}
